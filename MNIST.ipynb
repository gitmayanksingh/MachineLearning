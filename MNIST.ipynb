{
  "nbformat": 4,
  "nbformat_minor": 0,
  "metadata": {
    "colab": {
      "name": "MNIST.ipynb",
      "provenance": [],
      "collapsed_sections": [],
      "toc_visible": true,
      "include_colab_link": true
    },
    "kernelspec": {
      "name": "python3",
      "display_name": "Python 3"
    }
  },
  "cells": [
    {
      "cell_type": "markdown",
      "metadata": {
        "id": "view-in-github",
        "colab_type": "text"
      },
      "source": [
        "<a href=\"https://colab.research.google.com/github/gitmayanksingh/MachineLearning/blob/master/MNIST.ipynb\" target=\"_parent\"><img src=\"https://colab.research.google.com/assets/colab-badge.svg\" alt=\"Open In Colab\"/></a>"
      ]
    },
    {
      "cell_type": "code",
      "metadata": {
        "id": "-6NYts9FN51m",
        "colab_type": "code",
        "colab": {}
      },
      "source": [
        "import numpy as np\n",
        "import pandas as pd\n",
        "from keras.datasets import mnist\n",
        "from collections import Counter\n",
        "import pandas as pd \n",
        "import matplotlib.pyplot as plt #for plotting\n",
        "from sklearn.metrics import confusion_matrix\n",
        "import itertools\n",
        "import seaborn as sns\n",
        "import tensorflow as tf"
      ],
      "execution_count": 0,
      "outputs": []
    },
    {
      "cell_type": "markdown",
      "metadata": {
        "id": "5sLkBoC5q8sT",
        "colab_type": "text"
      },
      "source": [
        "**A. Load MNIST data from Keras Library and Split the same into Train and Test.**\n",
        "\n"
      ]
    },
    {
      "cell_type": "code",
      "metadata": {
        "id": "VBJDB1OVPC0T",
        "colab_type": "code",
        "colab": {}
      },
      "source": [
        "(X_train, y_train) , (X_test, y_test) = mnist.load_data()"
      ],
      "execution_count": 0,
      "outputs": []
    },
    {
      "cell_type": "code",
      "metadata": {
        "id": "8Qe30LmmPIaT",
        "colab_type": "code",
        "outputId": "f74db2cd-5703-43e5-d76c-272d3ce534be",
        "colab": {
          "base_uri": "https://localhost:8080/",
          "height": 87
        }
      },
      "source": [
        "print(X_train.shape)\n",
        "print(y_train.shape)\n",
        "print(X_test.shape)\n",
        "print(y_test.shape)"
      ],
      "execution_count": 0,
      "outputs": [
        {
          "output_type": "stream",
          "text": [
            "(60000, 28, 28)\n",
            "(60000,)\n",
            "(10000, 28, 28)\n",
            "(10000,)\n"
          ],
          "name": "stdout"
        }
      ]
    },
    {
      "cell_type": "code",
      "metadata": {
        "id": "rbbKGTayPOfx",
        "colab_type": "code",
        "outputId": "228a8533-1ffe-436b-d01a-05f1823540e5",
        "colab": {
          "base_uri": "https://localhost:8080/",
          "height": 277
        }
      },
      "source": [
        "X_train[3:5]"
      ],
      "execution_count": 0,
      "outputs": [
        {
          "output_type": "execute_result",
          "data": {
            "text/plain": [
              "array([[[0, 0, 0, ..., 0, 0, 0],\n",
              "        [0, 0, 0, ..., 0, 0, 0],\n",
              "        [0, 0, 0, ..., 0, 0, 0],\n",
              "        ...,\n",
              "        [0, 0, 0, ..., 0, 0, 0],\n",
              "        [0, 0, 0, ..., 0, 0, 0],\n",
              "        [0, 0, 0, ..., 0, 0, 0]],\n",
              "\n",
              "       [[0, 0, 0, ..., 0, 0, 0],\n",
              "        [0, 0, 0, ..., 0, 0, 0],\n",
              "        [0, 0, 0, ..., 0, 0, 0],\n",
              "        ...,\n",
              "        [0, 0, 0, ..., 0, 0, 0],\n",
              "        [0, 0, 0, ..., 0, 0, 0],\n",
              "        [0, 0, 0, ..., 0, 0, 0]]], dtype=uint8)"
            ]
          },
          "metadata": {
            "tags": []
          },
          "execution_count": 203
        }
      ]
    },
    {
      "cell_type": "code",
      "metadata": {
        "id": "VZkzlvurRL-s",
        "colab_type": "code",
        "outputId": "240e8f2d-52d5-4d07-e129-1e2da4f10a60",
        "colab": {
          "base_uri": "https://localhost:8080/",
          "height": 69
        }
      },
      "source": [
        "X_train[0][18]"
      ],
      "execution_count": 0,
      "outputs": [
        {
          "output_type": "execute_result",
          "data": {
            "text/plain": [
              "array([  0,   0,   0,   0,   0,   0,   0,   0,   0,   0,   0,   0,   0,\n",
              "         0,  46, 130, 183, 253, 253, 207,   2,   0,   0,   0,   0,   0,\n",
              "         0,   0], dtype=uint8)"
            ]
          },
          "metadata": {
            "tags": []
          },
          "execution_count": 204
        }
      ]
    },
    {
      "cell_type": "code",
      "metadata": {
        "id": "tzNxPrOZPb39",
        "colab_type": "code",
        "outputId": "038d1a33-8523-4d1a-ed27-bee547958849",
        "colab": {
          "base_uri": "https://localhost:8080/",
          "height": 191
        }
      },
      "source": [
        "train_lbel = Counter(y_train)\n",
        "train_lbel"
      ],
      "execution_count": 0,
      "outputs": [
        {
          "output_type": "execute_result",
          "data": {
            "text/plain": [
              "Counter({0: 5923,\n",
              "         1: 6742,\n",
              "         2: 5958,\n",
              "         3: 6131,\n",
              "         4: 5842,\n",
              "         5: 5421,\n",
              "         6: 5918,\n",
              "         7: 6265,\n",
              "         8: 5851,\n",
              "         9: 5949})"
            ]
          },
          "metadata": {
            "tags": []
          },
          "execution_count": 205
        }
      ]
    },
    {
      "cell_type": "code",
      "metadata": {
        "id": "PnDxmDeNP-_R",
        "colab_type": "code",
        "outputId": "25f61da2-d872-48c1-9df5-da5d2ac30cae",
        "colab": {
          "base_uri": "https://localhost:8080/",
          "height": 285
        }
      },
      "source": [
        "sns.countplot(y_train)"
      ],
      "execution_count": 0,
      "outputs": [
        {
          "output_type": "execute_result",
          "data": {
            "text/plain": [
              "<matplotlib.axes._subplots.AxesSubplot at 0x7f1379afbda0>"
            ]
          },
          "metadata": {
            "tags": []
          },
          "execution_count": 206
        },
        {
          "output_type": "display_data",
          "data": {
            "image/png": "[encoded data removed]",
            "text/plain": [
              "<Figure size 432x288 with 1 Axes>"
            ]
          },
          "metadata": {
            "tags": []
          }
        }
      ]
    },
    {
      "cell_type": "code",
      "metadata": {
        "id": "ZDcEZU88QQY7",
        "colab_type": "code",
        "outputId": "64a9834f-05b1-4c1c-93f7-d41a509259ce",
        "colab": {
          "base_uri": "https://localhost:8080/",
          "height": 533
        }
      },
      "source": [
        "%matplotlib inline\n",
        "# preview the images first\n",
        "plt.figure(figsize=(12,10))\n",
        "x, y = 10, 4\n",
        "for i in range(40):  \n",
        "    plt.subplot(y, x, i+1)\n",
        "    plt.imshow(X_train[i].reshape((28,28)),interpolation='nearest')\n",
        "plt.show()"
      ],
      "execution_count": 0,
      "outputs": [
        {
          "output_type": "display_data",
          "data": {
            "image/png": "[encoded data removed]",
            "text/plain": [
              "<Figure size 864x720 with 40 Axes>"
            ]
          },
          "metadata": {
            "tags": []
          }
        }
      ]
    },
    {
      "cell_type": "markdown",
      "metadata": {
        "id": "8tOAMWrerMr5",
        "colab_type": "text"
      },
      "source": [
        "**Scale the values of train and test between 0 & 1 by dividing train & test by 255**<br>\n",
        "**AND**<br>\n",
        "**Reshape the data** "
      ]
    },
    {
      "cell_type": "code",
      "metadata": {
        "id": "WV364Tp0Q093",
        "colab_type": "code",
        "colab": {}
      },
      "source": [
        "# Normalizing the input\n",
        "X_train= X_train.reshape(X_train.shape[0], 28, 28, 1)\n",
        "X_train = X_train.astype('float32')\n",
        "X_train/=255.0\n",
        "X_test = X_test.reshape(X_test.shape[0],28,28,1)\n",
        "X_test = X_test.astype('float32')\n",
        "X_test/=255.0"
      ],
      "execution_count": 0,
      "outputs": []
    },
    {
      "cell_type": "code",
      "metadata": {
        "id": "jNUSLmeIRfYP",
        "colab_type": "code",
        "outputId": "15f99db1-2d84-48d2-c2a7-fe2160a05073",
        "colab": {
          "base_uri": "https://localhost:8080/",
          "height": 35
        }
      },
      "source": [
        "print(X_train.shape)"
      ],
      "execution_count": 0,
      "outputs": [
        {
          "output_type": "stream",
          "text": [
            "(60000, 28, 28, 1)\n"
          ],
          "name": "stdout"
        }
      ]
    },
    {
      "cell_type": "code",
      "metadata": {
        "id": "Pn9kAoooRoSF",
        "colab_type": "code",
        "outputId": "dd355d2d-0ca9-420d-80fa-c8d302acde48",
        "colab": {
          "base_uri": "https://localhost:8080/",
          "height": 503
        }
      },
      "source": [
        "X_train[0][18]"
      ],
      "execution_count": 0,
      "outputs": [
        {
          "output_type": "execute_result",
          "data": {
            "text/plain": [
              "array([[0.        ],\n",
              "       [0.        ],\n",
              "       [0.        ],\n",
              "       [0.        ],\n",
              "       [0.        ],\n",
              "       [0.        ],\n",
              "       [0.        ],\n",
              "       [0.        ],\n",
              "       [0.        ],\n",
              "       [0.        ],\n",
              "       [0.        ],\n",
              "       [0.        ],\n",
              "       [0.        ],\n",
              "       [0.        ],\n",
              "       [0.18039216],\n",
              "       [0.50980395],\n",
              "       [0.7176471 ],\n",
              "       [0.99215686],\n",
              "       [0.99215686],\n",
              "       [0.8117647 ],\n",
              "       [0.00784314],\n",
              "       [0.        ],\n",
              "       [0.        ],\n",
              "       [0.        ],\n",
              "       [0.        ],\n",
              "       [0.        ],\n",
              "       [0.        ],\n",
              "       [0.        ]], dtype=float32)"
            ]
          },
          "metadata": {
            "tags": []
          },
          "execution_count": 210
        }
      ]
    },
    {
      "cell_type": "code",
      "metadata": {
        "id": "1PhPyxVgRhf_",
        "colab_type": "code",
        "outputId": "8f40c6d8-2a21-46b3-f927-0fb968e2119f",
        "colab": {
          "base_uri": "https://localhost:8080/",
          "height": 35
        }
      },
      "source": [
        "print(X_test.shape)"
      ],
      "execution_count": 0,
      "outputs": [
        {
          "output_type": "stream",
          "text": [
            "(10000, 28, 28, 1)\n"
          ],
          "name": "stdout"
        }
      ]
    },
    {
      "cell_type": "markdown",
      "metadata": {
        "id": "1eW_QePPrjPb",
        "colab_type": "text"
      },
      "source": [
        "***Displaying first 25 images from the training dataset and display the labels along with them !***"
      ]
    },
    {
      "cell_type": "code",
      "metadata": {
        "id": "kSqbQzq2RiqP",
        "colab_type": "code",
        "colab": {}
      },
      "source": [
        "class_names = ['Zero','One', 'Two', 'Three', 'Four', 'Five',\n",
        "               'Six', 'Seven', 'Eight', 'Nine']"
      ],
      "execution_count": 0,
      "outputs": []
    },
    {
      "cell_type": "code",
      "metadata": {
        "id": "BFghZtPhSY8N",
        "colab_type": "code",
        "outputId": "df2cc3e6-0e5d-4696-e90d-9d1b5bd39225",
        "colab": {
          "base_uri": "https://localhost:8080/",
          "height": 589
        }
      },
      "source": [
        "plt.figure(figsize=(10,10))\n",
        "for i in range(25):\n",
        "    plt.subplot(5,5,i+1)\n",
        "    plt.xticks([])\n",
        "    plt.yticks([])\n",
        "    plt.grid(False)\n",
        "    plt.imshow(X_train[i].reshape((28,28)), cmap=plt.cm.binary)\n",
        "    plt.xlabel(class_names[y_train[i]])\n",
        "plt.show()"
      ],
      "execution_count": 0,
      "outputs": [
        {
          "output_type": "display_data",
          "data": {
            "image/png": "[encoded data removed]",
            "text/plain": [
              "<Figure size 720x720 with 25 Axes>"
            ]
          },
          "metadata": {
            "tags": []
          }
        }
      ]
    },
    {
      "cell_type": "markdown",
      "metadata": {
        "id": "Fj6e8Na5aocR",
        "colab_type": "text"
      },
      "source": [
        "***Print the label for first image and after converting it to categorical***\n",
        "\n"
      ]
    },
    {
      "cell_type": "code",
      "metadata": {
        "id": "g9fU1DGSS1ST",
        "colab_type": "code",
        "colab": {}
      },
      "source": [
        "from  keras.utils import np_utils\n",
        "y_train = np_utils.to_categorical(y_train)\n",
        "y_test= np_utils.to_categorical(y_test)"
      ],
      "execution_count": 0,
      "outputs": []
    },
    {
      "cell_type": "code",
      "metadata": {
        "id": "U0KAGnAnT5P0",
        "colab_type": "code",
        "outputId": "1a4e8126-ed23-416f-fcc8-e5988f9c3a83",
        "colab": {
          "base_uri": "https://localhost:8080/",
          "height": 35
        }
      },
      "source": [
        "print(y_train[0])"
      ],
      "execution_count": 0,
      "outputs": [
        {
          "output_type": "stream",
          "text": [
            "[0. 0. 0. 0. 0. 1. 0. 0. 0. 0.]\n"
          ],
          "name": "stdout"
        }
      ]
    },
    {
      "cell_type": "code",
      "metadata": {
        "id": "bHuSfcMHaPGp",
        "colab_type": "code",
        "outputId": "aa48274d-897b-48ad-bf47-3f202af4aa07",
        "colab": {
          "base_uri": "https://localhost:8080/",
          "height": 279
        }
      },
      "source": [
        "plt.figure()\n",
        "plt.imshow(X_train[0])\n",
        "plt.xlabel(class_names[y_train[0]])\n",
        "plt.colorbar()\n",
        "plt.grid(False)\n",
        "plt.show()"
      ],
      "execution_count": 0,
      "outputs": [
        {
          "output_type": "display_data",
          "data": {
            "image/png": "[encoded data removed]",
            "text/plain": [
              "<Figure size 432x288 with 2 Axes>"
            ]
          },
          "metadata": {
            "tags": []
          }
        }
      ]
    },
    {
      "cell_type": "markdown",
      "metadata": {
        "id": "aW5N44EesbfO",
        "colab_type": "text"
      },
      "source": [
        "#**A. Building basic Single Layer Perceptron on the MNIST Data**\n",
        "\n",
        "\n"
      ]
    },
    {
      "cell_type": "code",
      "metadata": {
        "id": "PCQjhUBH8zhv",
        "colab_type": "code",
        "colab": {}
      },
      "source": [
        "from tensorflow import keras"
      ],
      "execution_count": 0,
      "outputs": []
    },
    {
      "cell_type": "code",
      "metadata": {
        "id": "3I1LuXO_8zup",
        "colab_type": "code",
        "colab": {}
      },
      "source": [
        "model = keras.Sequential([\n",
        "    keras.layers.Flatten(input_shape=(28, 28, 1)),\n",
        "    keras.layers.Dense(1024, activation='relu'),\n",
        "    keras.layers.Dense(10)\n",
        "])"
      ],
      "execution_count": 0,
      "outputs": []
    },
    {
      "cell_type": "code",
      "metadata": {
        "id": "OUPFp7nb8zzd",
        "colab_type": "code",
        "colab": {}
      },
      "source": [
        "model.compile(optimizer='RMSPROP',\n",
        "              loss=tf.keras.losses.CategoricalCrossentropy(from_logits=True),\n",
        "              metrics=['accuracy'])"
      ],
      "execution_count": 0,
      "outputs": []
    },
    {
      "cell_type": "code",
      "metadata": {
        "id": "DypYYWKc8zsz",
        "colab_type": "code",
        "outputId": "2891cd9a-edb7-423d-bb07-7ea565b060c1",
        "colab": {
          "base_uri": "https://localhost:8080/",
          "height": 1000
        }
      },
      "source": [
        "history = model.fit(X_train, y_train, epochs=50,batch_size=5000)"
      ],
      "execution_count": 0,
      "outputs": [
        {
          "output_type": "stream",
          "text": [
            "Train on 60000 samples\n",
            "Epoch 1/50\n",
            "60000/60000 [==============================] - 4s 67us/sample - loss: 0.9823 - acc: 0.7018\n",
            "Epoch 2/50\n",
            "60000/60000 [==============================] - 4s 65us/sample - loss: 0.4248 - acc: 0.8805\n",
            "Epoch 3/50\n",
            "60000/60000 [==============================] - 4s 65us/sample - loss: 0.3462 - acc: 0.8998\n",
            "Epoch 4/50\n",
            "60000/60000 [==============================] - 4s 65us/sample - loss: 0.2968 - acc: 0.9137\n",
            "Epoch 5/50\n",
            "60000/60000 [==============================] - 4s 66us/sample - loss: 0.2453 - acc: 0.9314\n",
            "Epoch 6/50\n",
            "60000/60000 [==============================] - 4s 65us/sample - loss: 0.2339 - acc: 0.9315\n",
            "Epoch 7/50\n",
            "60000/60000 [==============================] - 4s 65us/sample - loss: 0.2127 - acc: 0.9376\n",
            "Epoch 8/50\n",
            "60000/60000 [==============================] - 4s 65us/sample - loss: 0.1836 - acc: 0.9475\n",
            "Epoch 9/50\n",
            "60000/60000 [==============================] - 4s 64us/sample - loss: 0.1779 - acc: 0.9467\n",
            "Epoch 10/50\n",
            "60000/60000 [==============================] - 4s 67us/sample - loss: 0.1502 - acc: 0.9570\n",
            "Epoch 11/50\n",
            "60000/60000 [==============================] - 4s 67us/sample - loss: 0.1395 - acc: 0.9589\n",
            "Epoch 12/50\n",
            "60000/60000 [==============================] - 4s 65us/sample - loss: 0.1289 - acc: 0.9625\n",
            "Epoch 13/50\n",
            "60000/60000 [==============================] - 4s 66us/sample - loss: 0.1209 - acc: 0.9641\n",
            "Epoch 14/50\n",
            "60000/60000 [==============================] - 4s 65us/sample - loss: 0.1125 - acc: 0.9676\n",
            "Epoch 15/50\n",
            "60000/60000 [==============================] - 4s 66us/sample - loss: 0.1031 - acc: 0.9693\n",
            "Epoch 16/50\n",
            "60000/60000 [==============================] - 4s 66us/sample - loss: 0.0964 - acc: 0.9718\n",
            "Epoch 17/50\n",
            "60000/60000 [==============================] - 4s 65us/sample - loss: 0.0920 - acc: 0.9730\n",
            "Epoch 18/50\n",
            "60000/60000 [==============================] - 4s 66us/sample - loss: 0.0781 - acc: 0.9778\n",
            "Epoch 19/50\n",
            "60000/60000 [==============================] - 4s 66us/sample - loss: 0.0817 - acc: 0.9758\n",
            "Epoch 20/50\n",
            "60000/60000 [==============================] - 4s 66us/sample - loss: 0.0703 - acc: 0.9803\n",
            "Epoch 21/50\n",
            "60000/60000 [==============================] - 4s 67us/sample - loss: 0.0681 - acc: 0.9796\n",
            "Epoch 22/50\n",
            "60000/60000 [==============================] - 4s 67us/sample - loss: 0.0646 - acc: 0.9814\n",
            "Epoch 23/50\n",
            "60000/60000 [==============================] - 4s 65us/sample - loss: 0.0613 - acc: 0.9824\n",
            "Epoch 24/50\n",
            "60000/60000 [==============================] - 4s 65us/sample - loss: 0.0552 - acc: 0.9845\n",
            "Epoch 25/50\n",
            "60000/60000 [==============================] - 4s 65us/sample - loss: 0.0507 - acc: 0.9863\n",
            "Epoch 26/50\n",
            "60000/60000 [==============================] - 4s 65us/sample - loss: 0.0477 - acc: 0.9868\n",
            "Epoch 27/50\n",
            "60000/60000 [==============================] - 4s 65us/sample - loss: 0.0489 - acc: 0.9862\n",
            "Epoch 28/50\n",
            "60000/60000 [==============================] - 4s 66us/sample - loss: 0.0448 - acc: 0.9871\n",
            "Epoch 29/50\n",
            "60000/60000 [==============================] - 4s 66us/sample - loss: 0.0397 - acc: 0.9892\n",
            "Epoch 30/50\n",
            "60000/60000 [==============================] - 4s 66us/sample - loss: 0.0367 - acc: 0.9897\n",
            "Epoch 31/50\n",
            "60000/60000 [==============================] - 4s 66us/sample - loss: 0.0351 - acc: 0.9906\n",
            "Epoch 32/50\n",
            "60000/60000 [==============================] - 4s 65us/sample - loss: 0.0332 - acc: 0.9906\n",
            "Epoch 33/50\n",
            "60000/60000 [==============================] - 4s 66us/sample - loss: 0.0316 - acc: 0.9918\n",
            "Epoch 34/50\n",
            "60000/60000 [==============================] - 4s 66us/sample - loss: 0.0341 - acc: 0.9902\n",
            "Epoch 35/50\n",
            "60000/60000 [==============================] - 4s 67us/sample - loss: 0.0229 - acc: 0.9952\n",
            "Epoch 36/50\n",
            "60000/60000 [==============================] - 4s 65us/sample - loss: 0.0297 - acc: 0.9916\n",
            "Epoch 37/50\n",
            "60000/60000 [==============================] - 4s 66us/sample - loss: 0.0253 - acc: 0.9936\n",
            "Epoch 38/50\n",
            "60000/60000 [==============================] - 4s 66us/sample - loss: 0.0268 - acc: 0.9925\n",
            "Epoch 39/50\n",
            "60000/60000 [==============================] - 4s 73us/sample - loss: 0.0217 - acc: 0.9954\n",
            "Epoch 40/50\n",
            "60000/60000 [==============================] - 5s 77us/sample - loss: 0.0184 - acc: 0.9959\n",
            "Epoch 41/50\n",
            "60000/60000 [==============================] - 4s 65us/sample - loss: 0.0222 - acc: 0.9946\n",
            "Epoch 42/50\n",
            "60000/60000 [==============================] - 4s 66us/sample - loss: 0.0155 - acc: 0.9968\n",
            "Epoch 43/50\n",
            "60000/60000 [==============================] - 4s 66us/sample - loss: 0.0205 - acc: 0.9947\n",
            "Epoch 44/50\n",
            "60000/60000 [==============================] - 4s 66us/sample - loss: 0.0203 - acc: 0.9948\n",
            "Epoch 45/50\n",
            "60000/60000 [==============================] - 4s 67us/sample - loss: 0.0117 - acc: 0.9982\n",
            "Epoch 46/50\n",
            "60000/60000 [==============================] - 4s 66us/sample - loss: 0.0211 - acc: 0.9940\n",
            "Epoch 47/50\n",
            "60000/60000 [==============================] - 4s 72us/sample - loss: 0.0114 - acc: 0.9980\n",
            "Epoch 48/50\n",
            "60000/60000 [==============================] - 4s 67us/sample - loss: 0.0120 - acc: 0.9978\n",
            "Epoch 49/50\n",
            "60000/60000 [==============================] - 4s 66us/sample - loss: 0.0187 - acc: 0.9948\n",
            "Epoch 50/50\n",
            "60000/60000 [==============================] - 4s 67us/sample - loss: 0.0078 - acc: 0.9990\n"
          ],
          "name": "stdout"
        }
      ]
    },
    {
      "cell_type": "code",
      "metadata": {
        "id": "xc6aGEXF8zp2",
        "colab_type": "code",
        "colab": {}
      },
      "source": [
        "loss, accuracy  = model.evaluate(X_test, y_test, verbose=False)"
      ],
      "execution_count": 0,
      "outputs": []
    },
    {
      "cell_type": "code",
      "metadata": {
        "id": "ZtyptM1a8zm9",
        "colab_type": "code",
        "outputId": "9ce38a07-dca2-478f-ea34-2777a7cd73d7",
        "colab": {
          "base_uri": "https://localhost:8080/",
          "height": 330
        }
      },
      "source": [
        "#Plot It !\n",
        "plt.plot(history.history['acc'])\n",
        "plt.title('model accuracy')\n",
        "plt.ylabel('accuracy')\n",
        "plt.xlabel('epoch')\n",
        "plt.legend(['training'], loc='best')\n",
        "plt.show()\n",
        "\n",
        "print(f'Test loss: {loss:.3}')\n",
        "print(f'Test accuracy: {accuracy:.3}')"
      ],
      "execution_count": 0,
      "outputs": [
        {
          "output_type": "display_data",
          "data": {
            "image/png": "[encoded data removed]",
            "text/plain": [
              "<Figure size 432x288 with 1 Axes>"
            ]
          },
          "metadata": {
            "tags": []
          }
        },
        {
          "output_type": "stream",
          "text": [
            "Test loss: 0.082\n",
            "Test accuracy: 0.979\n"
          ],
          "name": "stdout"
        }
      ]
    },
    {
      "cell_type": "markdown",
      "metadata": {
        "id": "fNQZntAgCv_q",
        "colab_type": "text"
      },
      "source": [
        "#**B. Build basic Multilayer Perceptron on the MNIST Data**"
      ]
    },
    {
      "cell_type": "code",
      "metadata": {
        "id": "1kkUdC7fB8Ef",
        "colab_type": "code",
        "colab": {}
      },
      "source": [
        "model = keras.Sequential([\n",
        "    keras.layers.Flatten(input_shape=(28, 28, 1)),\n",
        "    keras.layers.Dense(1024, activation='relu'),\n",
        "    keras.layers.Dense(512, activation='relu'),\n",
        "    keras.layers.Dense(512, activation='relu'),\n",
        "    keras.layers.Dense(10)\n",
        "])"
      ],
      "execution_count": 0,
      "outputs": []
    },
    {
      "cell_type": "code",
      "metadata": {
        "id": "y2hbJC-2C3BS",
        "colab_type": "code",
        "colab": {}
      },
      "source": [
        "model.compile(optimizer='adam',\n",
        "              loss=tf.keras.losses.CategoricalCrossentropy(from_logits=True),\n",
        "              metrics=['accuracy'])"
      ],
      "execution_count": 0,
      "outputs": []
    },
    {
      "cell_type": "code",
      "metadata": {
        "id": "kRRc4MarC3Hh",
        "colab_type": "code",
        "outputId": "671e188c-f818-4254-f39c-7734e3a4ef2f",
        "colab": {
          "base_uri": "https://localhost:8080/",
          "height": 1000
        }
      },
      "source": [
        "history = model.fit(X_train, y_train, epochs=50,batch_size=5000)"
      ],
      "execution_count": 0,
      "outputs": [
        {
          "output_type": "stream",
          "text": [
            "Epoch 1/50\n",
            "60000/60000 [==============================] - 10s 172us/step - loss: 0.9377 - acc: 0.7415\n",
            "Epoch 2/50\n",
            "60000/60000 [==============================] - 9s 145us/step - loss: 0.3338 - acc: 0.9029\n",
            "Epoch 3/50\n",
            "60000/60000 [==============================] - 9s 146us/step - loss: 0.2158 - acc: 0.9379\n",
            "Epoch 4/50\n",
            "60000/60000 [==============================] - 9s 145us/step - loss: 0.1636 - acc: 0.9524\n",
            "Epoch 5/50\n",
            "60000/60000 [==============================] - 9s 145us/step - loss: 0.1285 - acc: 0.9635\n",
            "Epoch 6/50\n",
            "60000/60000 [==============================] - 9s 145us/step - loss: 0.1016 - acc: 0.9707\n",
            "Epoch 7/50\n",
            "60000/60000 [==============================] - 9s 149us/step - loss: 0.0819 - acc: 0.9769\n",
            "Epoch 8/50\n",
            "60000/60000 [==============================] - 9s 149us/step - loss: 0.0667 - acc: 0.9809\n",
            "Epoch 9/50\n",
            "60000/60000 [==============================] - 9s 146us/step - loss: 0.0540 - acc: 0.9848\n",
            "Epoch 10/50\n",
            "60000/60000 [==============================] - 9s 147us/step - loss: 0.0442 - acc: 0.9876\n",
            "Epoch 11/50\n",
            "60000/60000 [==============================] - 9s 146us/step - loss: 0.0374 - acc: 0.9899\n",
            "Epoch 12/50\n",
            "60000/60000 [==============================] - 9s 149us/step - loss: 0.0302 - acc: 0.9919\n",
            "Epoch 13/50\n",
            "60000/60000 [==============================] - 9s 144us/step - loss: 0.0263 - acc: 0.9931\n",
            "Epoch 14/50\n",
            "60000/60000 [==============================] - 9s 145us/step - loss: 0.0212 - acc: 0.9948\n",
            "Epoch 15/50\n",
            "60000/60000 [==============================] - 9s 146us/step - loss: 0.0171 - acc: 0.9962\n",
            "Epoch 16/50\n",
            "60000/60000 [==============================] - 9s 145us/step - loss: 0.0136 - acc: 0.9973\n",
            "Epoch 17/50\n",
            "60000/60000 [==============================] - 9s 146us/step - loss: 0.0107 - acc: 0.9981\n",
            "Epoch 18/50\n",
            "60000/60000 [==============================] - 9s 146us/step - loss: 0.0083 - acc: 0.9990\n",
            "Epoch 19/50\n",
            "60000/60000 [==============================] - 9s 145us/step - loss: 0.0069 - acc: 0.9992\n",
            "Epoch 20/50\n",
            "60000/60000 [==============================] - 9s 144us/step - loss: 0.0058 - acc: 0.9994\n",
            "Epoch 21/50\n",
            "60000/60000 [==============================] - 9s 146us/step - loss: 0.0048 - acc: 0.9995\n",
            "Epoch 22/50\n",
            "60000/60000 [==============================] - 9s 146us/step - loss: 0.0039 - acc: 0.9997\n",
            "Epoch 23/50\n",
            "60000/60000 [==============================] - 9s 146us/step - loss: 0.0033 - acc: 0.9998\n",
            "Epoch 24/50\n",
            "60000/60000 [==============================] - 9s 146us/step - loss: 0.0026 - acc: 0.9999\n",
            "Epoch 25/50\n",
            "60000/60000 [==============================] - 9s 146us/step - loss: 0.0022 - acc: 1.0000\n",
            "Epoch 26/50\n",
            "60000/60000 [==============================] - 9s 144us/step - loss: 0.0018 - acc: 1.0000\n",
            "Epoch 27/50\n",
            "60000/60000 [==============================] - 9s 144us/step - loss: 0.0016 - acc: 1.0000\n",
            "Epoch 28/50\n",
            "60000/60000 [==============================] - 9s 146us/step - loss: 0.0014 - acc: 1.0000\n",
            "Epoch 29/50\n",
            "60000/60000 [==============================] - 9s 146us/step - loss: 0.0013 - acc: 1.0000\n",
            "Epoch 30/50\n",
            "60000/60000 [==============================] - 9s 146us/step - loss: 0.0012 - acc: 1.0000\n",
            "Epoch 31/50\n",
            "60000/60000 [==============================] - 9s 145us/step - loss: 0.0010 - acc: 1.0000\n",
            "Epoch 32/50\n",
            "60000/60000 [==============================] - 9s 146us/step - loss: 9.0992e-04 - acc: 1.0000\n",
            "Epoch 33/50\n",
            "60000/60000 [==============================] - 9s 144us/step - loss: 8.0842e-04 - acc: 1.0000\n",
            "Epoch 34/50\n",
            "60000/60000 [==============================] - 9s 145us/step - loss: 7.2664e-04 - acc: 1.0000\n",
            "Epoch 35/50\n",
            "60000/60000 [==============================] - 9s 146us/step - loss: 6.7451e-04 - acc: 1.0000\n",
            "Epoch 36/50\n",
            "60000/60000 [==============================] - 9s 146us/step - loss: 6.2250e-04 - acc: 1.0000\n",
            "Epoch 37/50\n",
            "60000/60000 [==============================] - 9s 147us/step - loss: 5.7784e-04 - acc: 1.0000\n",
            "Epoch 38/50\n",
            "60000/60000 [==============================] - 9s 146us/step - loss: 5.3869e-04 - acc: 1.0000\n",
            "Epoch 39/50\n",
            "60000/60000 [==============================] - 9s 145us/step - loss: 5.1111e-04 - acc: 1.0000\n",
            "Epoch 40/50\n",
            "60000/60000 [==============================] - 9s 148us/step - loss: 4.6940e-04 - acc: 1.0000\n",
            "Epoch 41/50\n",
            "60000/60000 [==============================] - 9s 146us/step - loss: 4.3023e-04 - acc: 1.0000\n",
            "Epoch 42/50\n",
            "60000/60000 [==============================] - 9s 147us/step - loss: 4.0608e-04 - acc: 1.0000\n",
            "Epoch 43/50\n",
            "60000/60000 [==============================] - 9s 152us/step - loss: 3.8484e-04 - acc: 1.0000\n",
            "Epoch 44/50\n",
            "60000/60000 [==============================] - 9s 148us/step - loss: 3.6288e-04 - acc: 1.0000\n",
            "Epoch 45/50\n",
            "60000/60000 [==============================] - 9s 147us/step - loss: 3.4417e-04 - acc: 1.0000\n",
            "Epoch 46/50\n",
            "60000/60000 [==============================] - 9s 146us/step - loss: 3.1834e-04 - acc: 1.0000\n",
            "Epoch 47/50\n",
            "60000/60000 [==============================] - 9s 149us/step - loss: 3.0028e-04 - acc: 1.0000\n",
            "Epoch 48/50\n",
            "60000/60000 [==============================] - 9s 146us/step - loss: 2.8613e-04 - acc: 1.0000\n",
            "Epoch 49/50\n",
            "60000/60000 [==============================] - 9s 146us/step - loss: 2.7028e-04 - acc: 1.0000\n",
            "Epoch 50/50\n",
            "60000/60000 [==============================] - 9s 146us/step - loss: 2.5665e-04 - acc: 1.0000\n"
          ],
          "name": "stdout"
        }
      ]
    },
    {
      "cell_type": "code",
      "metadata": {
        "id": "iwfXBwLfDALB",
        "colab_type": "code",
        "outputId": "98323e17-95d0-450e-e89a-75ffc88b0a68",
        "colab": {
          "base_uri": "https://localhost:8080/",
          "height": 330
        }
      },
      "source": [
        "#Plot It !\n",
        "plt.plot(history.history['acc'])\n",
        "plt.title('model accuracy')\n",
        "plt.ylabel('accuracy')\n",
        "plt.xlabel('epoch')\n",
        "plt.legend(['training'], loc='best')\n",
        "plt.show()\n",
        "\n",
        "print(f'Test loss: {loss:.3}')\n",
        "print(f'Test accuracy: {accuracy:.3}')"
      ],
      "execution_count": 0,
      "outputs": [
        {
          "output_type": "display_data",
          "data": {
            "image/png": "[encoded data removed]",
            "text/plain": [
              "<Figure size 432x288 with 1 Axes>"
            ]
          },
          "metadata": {
            "tags": []
          }
        },
        {
          "output_type": "stream",
          "text": [
            "Test loss: 0.082\n",
            "Test accuracy: 0.979\n"
          ],
          "name": "stdout"
        }
      ]
    },
    {
      "cell_type": "markdown",
      "metadata": {
        "id": "IwoYzTChsmUR",
        "colab_type": "text"
      },
      "source": [
        "#**C. Build basic Convolution neural network on the MNIST Data.**"
      ]
    },
    {
      "cell_type": "code",
      "metadata": {
        "id": "MPDBps2yT6L1",
        "colab_type": "code",
        "colab": {}
      },
      "source": [
        "from keras.models import Sequential\n",
        "import keras as keras\n",
        "classifier = Sequential()"
      ],
      "execution_count": 0,
      "outputs": []
    },
    {
      "cell_type": "code",
      "metadata": {
        "id": "wBFivmpAUJ6N",
        "colab_type": "code",
        "colab": {}
      },
      "source": [
        "from keras.layers import Dense, Dropout, Activation, Flatten, MaxPool2D\n",
        "from keras.layers import Conv2D, BatchNormalization"
      ],
      "execution_count": 0,
      "outputs": []
    },
    {
      "cell_type": "code",
      "metadata": {
        "id": "vju9JKzvT_Iv",
        "colab_type": "code",
        "outputId": "54480d8c-99f8-46dc-c6d2-5b3b6a2864f9",
        "colab": {
          "base_uri": "https://localhost:8080/",
          "height": 711
        }
      },
      "source": [
        "classifier.add(Conv2D(32, (3,3), input_shape=(28,28,1)))\n",
        "BatchNormalization(axis=-1) #Axis -1 is always the features axis\n",
        "classifier.add(Activation('relu'))\n",
        " \n",
        "classifier.add(Conv2D(32, (3,3)))\n",
        "BatchNormalization(axis=-1)\n",
        "classifier.add(Activation('relu'))\n",
        "classifier.add(MaxPool2D(pool_size=(2,2)))\n",
        "BatchNormalization(axis=-1)\n",
        "\n",
        "classifier.add(Conv2D(64, (3,3)))\n",
        "BatchNormalization(axis=-1)\n",
        "classifier.add(Activation('relu'))\n",
        "\n",
        "classifier.add(Conv2D(64, (3,3)))\n",
        "classifier.add(Activation('relu'))\n",
        "classifier.add(MaxPool2D(pool_size=(2,2)))\n",
        "\n",
        "classifier.add(Flatten())\n",
        "\n",
        "BatchNormalization()\n",
        "classifier.add(Dense(512))\n",
        "BatchNormalization()\n",
        "classifier.add(Activation('relu'))\n",
        "classifier.add(Dropout(0.2))\n",
        "classifier.add(Dense(10))\n",
        "classifier.add(Activation('softmax'))\n",
        "classifier.summary()"
      ],
      "execution_count": 0,
      "outputs": [
        {
          "output_type": "stream",
          "text": [
            "Model: \"sequential_7\"\n",
            "_________________________________________________________________\n",
            "Layer (type)                 Output Shape              Param #   \n",
            "=================================================================\n",
            "conv2d_5 (Conv2D)            (None, 26, 26, 32)        320       \n",
            "_________________________________________________________________\n",
            "activation_7 (Activation)    (None, 26, 26, 32)        0         \n",
            "_________________________________________________________________\n",
            "conv2d_6 (Conv2D)            (None, 24, 24, 32)        9248      \n",
            "_________________________________________________________________\n",
            "activation_8 (Activation)    (None, 24, 24, 32)        0         \n",
            "_________________________________________________________________\n",
            "max_pooling2d_3 (MaxPooling2 (None, 12, 12, 32)        0         \n",
            "_________________________________________________________________\n",
            "conv2d_7 (Conv2D)            (None, 10, 10, 64)        18496     \n",
            "_________________________________________________________________\n",
            "activation_9 (Activation)    (None, 10, 10, 64)        0         \n",
            "_________________________________________________________________\n",
            "conv2d_8 (Conv2D)            (None, 8, 8, 64)          36928     \n",
            "_________________________________________________________________\n",
            "activation_10 (Activation)   (None, 8, 8, 64)          0         \n",
            "_________________________________________________________________\n",
            "max_pooling2d_4 (MaxPooling2 (None, 4, 4, 64)          0         \n",
            "_________________________________________________________________\n",
            "flatten_6 (Flatten)          (None, 1024)              0         \n",
            "_________________________________________________________________\n",
            "dense_33 (Dense)             (None, 512)               524800    \n",
            "_________________________________________________________________\n",
            "activation_11 (Activation)   (None, 512)               0         \n",
            "_________________________________________________________________\n",
            "dropout_5 (Dropout)          (None, 512)               0         \n",
            "_________________________________________________________________\n",
            "dense_34 (Dense)             (None, 10)                5130      \n",
            "_________________________________________________________________\n",
            "activation_12 (Activation)   (None, 10)                0         \n",
            "=================================================================\n",
            "Total params: 594,922\n",
            "Trainable params: 594,922\n",
            "Non-trainable params: 0\n",
            "_________________________________________________________________\n"
          ],
          "name": "stdout"
        }
      ]
    },
    {
      "cell_type": "code",
      "metadata": {
        "id": "ku9bRYpvUdjx",
        "colab_type": "code",
        "colab": {}
      },
      "source": [
        "classifier.compile(optimizer='adam', loss='categorical_crossentropy', metrics=['accuracy'])"
      ],
      "execution_count": 0,
      "outputs": []
    },
    {
      "cell_type": "code",
      "metadata": {
        "id": "Mn9XwqhdU9pO",
        "colab_type": "code",
        "colab": {}
      },
      "source": [
        "from keras.preprocessing.image import ImageDataGenerator\n",
        "# applying transformation to image\n",
        "train_gen = ImageDataGenerator(rotation_range=8, \n",
        "                               width_shift_range=0.08, \n",
        "                               shear_range=0.3, \n",
        "                               height_shift_range=0.08, \n",
        "                               zoom_range=0.08 )\n",
        "test_gen = ImageDataGenerator()"
      ],
      "execution_count": 0,
      "outputs": []
    },
    {
      "cell_type": "code",
      "metadata": {
        "id": "NedqMrlIVFaf",
        "colab_type": "code",
        "colab": {}
      },
      "source": [
        "training_set= train_gen.flow(X_train, y_train, batch_size=64)\n",
        "test_set= train_gen.flow(X_test, y_test, batch_size=64)"
      ],
      "execution_count": 0,
      "outputs": []
    },
    {
      "cell_type": "code",
      "metadata": {
        "id": "hjUgUjjEVIMX",
        "colab_type": "code",
        "outputId": "e09e4d2c-1c24-4bef-ef33-6e8188435594",
        "colab": {
          "base_uri": "https://localhost:8080/",
          "height": 211
        }
      },
      "source": [
        "history=classifier.fit_generator(training_set, \n",
        "                         steps_per_epoch=60000//64, \n",
        "                         validation_data= test_set, \n",
        "                         validation_steps=10000//64, \n",
        "                         epochs=5)"
      ],
      "execution_count": 0,
      "outputs": [
        {
          "output_type": "stream",
          "text": [
            "Epoch 1/5\n",
            "937/937 [==============================] - 175s 186ms/step - loss: 0.2033 - acc: 0.9358 - val_loss: 0.0654 - val_acc: 0.9793\n",
            "Epoch 2/5\n",
            "937/937 [==============================] - 174s 185ms/step - loss: 0.0603 - acc: 0.9806 - val_loss: 0.0439 - val_acc: 0.9855\n",
            "Epoch 3/5\n",
            "937/937 [==============================] - 174s 185ms/step - loss: 0.0462 - acc: 0.9861 - val_loss: 0.0345 - val_acc: 0.9880\n",
            "Epoch 4/5\n",
            "937/937 [==============================] - 174s 185ms/step - loss: 0.0394 - acc: 0.9879 - val_loss: 0.0233 - val_acc: 0.9929\n",
            "Epoch 5/5\n",
            "937/937 [==============================] - 174s 186ms/step - loss: 0.0355 - acc: 0.9891 - val_loss: 0.0298 - val_acc: 0.9909\n"
          ],
          "name": "stdout"
        }
      ]
    },
    {
      "cell_type": "markdown",
      "metadata": {
        "id": "B1uf-llDEmD8",
        "colab_type": "text"
      },
      "source": [
        "#**Plot It !**"
      ]
    },
    {
      "cell_type": "code",
      "metadata": {
        "id": "Ml0xbL_dFwcn",
        "colab_type": "code",
        "outputId": "0d93f4e0-a719-4031-9568-f05aaa3e9b09",
        "colab": {
          "base_uri": "https://localhost:8080/",
          "height": 330
        }
      },
      "source": [
        "#Plot It !\n",
        "plt.plot(history.history['acc'])\n",
        "plt.title('model accuracy')\n",
        "plt.ylabel('accuracy')\n",
        "plt.xlabel('epoch')\n",
        "plt.legend(['training'], loc='best')\n",
        "plt.show()\n",
        "\n",
        "print(f'Test loss: {loss:.3}')\n",
        "print(f'Test accuracy: {accuracy:.3}')"
      ],
      "execution_count": 0,
      "outputs": [
        {
          "output_type": "display_data",
          "data": {
            "image/png": "[encoded data removed]",
            "text/plain": [
              "<Figure size 432x288 with 1 Axes>"
            ]
          },
          "metadata": {
            "tags": []
          }
        },
        {
          "output_type": "stream",
          "text": [
            "Test loss: 0.082\n",
            "Test accuracy: 0.979\n"
          ],
          "name": "stdout"
        }
      ]
    },
    {
      "cell_type": "markdown",
      "metadata": {
        "id": "ypqdLa7EOuEn",
        "colab_type": "text"
      },
      "source": [
        "**B. Save the model into Json and .h5 file**\n",
        "\n",
        "\n"
      ]
    },
    {
      "cell_type": "code",
      "metadata": {
        "id": "TfOhnqdsVLKk",
        "colab_type": "code",
        "colab": {}
      },
      "source": [
        "import os\n",
        "os.makedirs('./model', exist_ok=True)\n",
        "classifier.save('./model/mnist_model.h5')"
      ],
      "execution_count": 0,
      "outputs": []
    },
    {
      "cell_type": "code",
      "metadata": {
        "id": "NQWvkeyBVdME",
        "colab_type": "code",
        "outputId": "412783f7-4746-45d4-ee94-feb1d9094c86",
        "colab": {
          "base_uri": "https://localhost:8080/",
          "height": 211
        }
      },
      "source": [
        "!pip install jsonlib"
      ],
      "execution_count": 0,
      "outputs": [
        {
          "output_type": "stream",
          "text": [
            "Collecting jsonlib\n",
            "  Using cached https://files.pythonhosted.org/packages/7c/55/19c29fd79dfb5d42f4568feedc5a286d01d0683a372c1e19024531576508/jsonlib-1.6.1.tar.gz\n",
            "Building wheels for collected packages: jsonlib\n",
            "  Building wheel for jsonlib (setup.py) ... \u001b[?25lerror\n",
            "\u001b[31m  ERROR: Failed building wheel for jsonlib\u001b[0m\n",
            "\u001b[?25h  Running setup.py clean for jsonlib\n",
            "Failed to build jsonlib\n",
            "Installing collected packages: jsonlib\n",
            "    Running setup.py install for jsonlib ... \u001b[?25l\u001b[?25herror\n",
            "\u001b[31mERROR: Command errored out with exit status 1: /usr/bin/python3 -u -c 'import sys, setuptools, tokenize; sys.argv[0] = '\"'\"'/tmp/pip-install-xdh8tjtu/jsonlib/setup.py'\"'\"'; __file__='\"'\"'/tmp/pip-install-xdh8tjtu/jsonlib/setup.py'\"'\"';f=getattr(tokenize, '\"'\"'open'\"'\"', open)(__file__);code=f.read().replace('\"'\"'\\r\\n'\"'\"', '\"'\"'\\n'\"'\"');f.close();exec(compile(code, __file__, '\"'\"'exec'\"'\"'))' install --record /tmp/pip-record-_zlng2s5/install-record.txt --single-version-externally-managed --compile Check the logs for full command output.\u001b[0m\n"
          ],
          "name": "stdout"
        }
      ]
    },
    {
      "cell_type": "code",
      "metadata": {
        "id": "AtpZnqozVdYx",
        "colab_type": "code",
        "colab": {}
      },
      "source": [
        "import json\n",
        "# serialize model to JSON\n",
        "model_json = classifier.to_json()\n",
        "with open(\"./model/mnist_model.json\", \"w\") as json_file:\n",
        "    json_file.write(model_json)"
      ],
      "execution_count": 0,
      "outputs": []
    },
    {
      "cell_type": "markdown",
      "metadata": {
        "id": "E57ni7rEPG2z",
        "colab_type": "text"
      },
      "source": [
        "**C. Load the model from Disk**"
      ]
    },
    {
      "cell_type": "code",
      "metadata": {
        "id": "C3EC6BeuVdiN",
        "colab_type": "code",
        "outputId": "854ea43e-9004-4d35-b9a2-262a7e479e93",
        "colab": {
          "base_uri": "https://localhost:8080/",
          "height": 35
        }
      },
      "source": [
        "from keras.models import model_from_json\n",
        "from keras.models import load_model\n",
        "from keras.preprocessing import image\n",
        "import numpy as np\n",
        "from keras.losses import categorical_crossentropy\n",
        "from keras.optimizers import Adam\n",
        "# load json and create model\n",
        "json_file = open('./model/mnist_model.json', 'r')\n",
        "loaded_model_json = json_file.read()\n",
        "json_file.close()\n",
        "loaded_model = model_from_json(loaded_model_json)\n",
        "# load weights into new model\n",
        "loaded_model.load_weights(\"./model/mnist_model.h5\")\n",
        "print(\"Loaded model from disk\")\n",
        "# load the model we saved\n",
        "\n",
        "classifier.compile(loss='categorical_crossentropy',\n",
        "              optimizer=Adam(lr=0.001, beta_1=0.9, beta_2=0.999, epsilon=1e-7),\n",
        "              metrics=['accuracy'])"
      ],
      "execution_count": 0,
      "outputs": [
        {
          "output_type": "stream",
          "text": [
            "Loaded model from disk\n"
          ],
          "name": "stdout"
        }
      ]
    },
    {
      "cell_type": "markdown",
      "metadata": {
        "id": "Zcd0bMWkSSpY",
        "colab_type": "text"
      },
      "source": [
        "\n",
        "```\n",
        " T H A N K Y O U !\n",
        "```\n",
        "\n"
      ]
    },
    {
      "cell_type": "code",
      "metadata": {
        "id": "Kz_ljY7VboPK",
        "colab_type": "code",
        "colab": {}
      },
      "source": [
        ""
      ],
      "execution_count": 0,
      "outputs": []
    }
  ]
}